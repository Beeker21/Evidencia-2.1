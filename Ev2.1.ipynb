{
 "cells": [
  {
   "cell_type": "code",
   "execution_count": null,
   "id": "ce502ac2-303c-4fdc-af01-01b1cff39313",
   "metadata": {},
   "outputs": [],
   "source": [
    "Evidencia 2.1 crea una clase, que contenga atributos, propiedades, métodos, y método constructor. "
   ]
  },
  {
   "cell_type": "code",
   "execution_count": 1,
   "id": "4dd18854-227b-436b-a3b2-614fbb9bcf6e",
   "metadata": {},
   "outputs": [
    {
     "name": "stdout",
     "output_type": "stream",
     "text": [
      "Mi automovil es un Toyota Corolla de color Azul y tiene la placa ABC-123.\n",
      "Mi automovil se ha encendido.\n",
      "Mi automovil se ha apagado.\n"
     ]
    }
   ],
   "source": [
    "#el primer paso a realizar seria crear una clase \n",
    "class Coche:\n",
    "  def __init__(self, marca, modelo, año, color, nombre, placa):\n",
    "      self.marca = marca\n",
    "      self.modelo = modelo\n",
    "      self.año = año\n",
    "      self.color = color\n",
    "      self.nombre = nombre\n",
    "      self.placa = placa\n",
    "      self.encendido = False\n",
    " #creamos el siguiente metodo para mostrar la informacion del objeto(coche)\n",
    "  def mostrar_informacion(self):\n",
    "      print(f\"{self.nombre} es un {self.marca} {self.modelo} de color {self.color} y tiene la placa {self.placa}.\")\n",
    "# estos metodo de enceneder y apagar es creado para establecer un atributo al objeto(coche) con validaciones de true o false \n",
    "  def encender(self):\n",
    "      if not self.encendido:\n",
    "          self.encendido = True\n",
    "          print(f\"{self.nombre} se ha encendido.\")\n",
    "      else:\n",
    "          print(f\"{self.nombre} ya estaba encendido.\")\n",
    "\n",
    "  def apagar(self):\n",
    "      if self.encendido:\n",
    "          self.encendido = False\n",
    "          print(f\"{self.nombre} se ha apagado.\")\n",
    "      else:\n",
    "          print(f\"{self.nombre} ya estaba apagado.\")\n",
    "# Crear un objeto de la clase Coche\n",
    "mi_coche = Coche(\"Toyota\", \"Corolla\", 2021, \"Azul\", \"Mi automovil\", \"ABC-123\")\n",
    "\n",
    "# Llamar al método mostrar_informacion\n",
    "mi_coche.mostrar_informacion()\n",
    "\n",
    "# Llamar al método encender\n",
    "mi_coche.encender()\n",
    "\n",
    "# Llamar al método apagar\n",
    "mi_coche.apagar()"
   ]
  }
 ],
 "metadata": {
  "kernelspec": {
   "display_name": "Python 3 (ipykernel)",
   "language": "python",
   "name": "python3"
  },
  "language_info": {
   "codemirror_mode": {
    "name": "ipython",
    "version": 3
   },
   "file_extension": ".py",
   "mimetype": "text/x-python",
   "name": "python",
   "nbconvert_exporter": "python",
   "pygments_lexer": "ipython3",
   "version": "3.11.3"
  }
 },
 "nbformat": 4,
 "nbformat_minor": 5
}
